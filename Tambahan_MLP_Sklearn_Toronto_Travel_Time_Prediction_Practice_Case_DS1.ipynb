{
  "nbformat": 4,
  "nbformat_minor": 0,
  "metadata": {
    "colab": {
      "name": "Tambahan MLP Sklearn Toronto_Travel_Time_Prediction_Practice_Case_DS1.ipynb",
      "provenance": [],
      "collapsed_sections": []
    },
    "kernelspec": {
      "display_name": "Python 3",
      "name": "python3"
    },
    "language_info": {
      "name": "python"
    }
  },
  "cells": [
    {
      "cell_type": "code",
      "metadata": {
        "colab": {
          "base_uri": "https://localhost:8080/"
        },
        "id": "eRxTTXAGEPnD",
        "outputId": "ba0b05ef-361c-4276-c599-547400d9e96f"
      },
      "source": [
        "!pip install geopandas"
      ],
      "execution_count": null,
      "outputs": [
        {
          "output_type": "stream",
          "text": [
            "Collecting geopandas\n",
            "  Downloading geopandas-0.9.0-py2.py3-none-any.whl (994 kB)\n",
            "\u001b[K     |████████████████████████████████| 994 kB 4.7 MB/s \n",
            "\u001b[?25hCollecting pyproj>=2.2.0\n",
            "  Downloading pyproj-3.1.0-cp37-cp37m-manylinux2010_x86_64.whl (6.6 MB)\n",
            "\u001b[K     |████████████████████████████████| 6.6 MB 23.3 MB/s \n",
            "\u001b[?25hRequirement already satisfied: pandas>=0.24.0 in /usr/local/lib/python3.7/dist-packages (from geopandas) (1.1.5)\n",
            "Requirement already satisfied: shapely>=1.6 in /usr/local/lib/python3.7/dist-packages (from geopandas) (1.7.1)\n",
            "Collecting fiona>=1.8\n",
            "  Downloading Fiona-1.8.20-cp37-cp37m-manylinux1_x86_64.whl (15.4 MB)\n",
            "\u001b[K     |████████████████████████████████| 15.4 MB 36 kB/s \n",
            "\u001b[?25hRequirement already satisfied: attrs>=17 in /usr/local/lib/python3.7/dist-packages (from fiona>=1.8->geopandas) (21.2.0)\n",
            "Requirement already satisfied: certifi in /usr/local/lib/python3.7/dist-packages (from fiona>=1.8->geopandas) (2021.5.30)\n",
            "Collecting cligj>=0.5\n",
            "  Downloading cligj-0.7.2-py3-none-any.whl (7.1 kB)\n",
            "Collecting click-plugins>=1.0\n",
            "  Downloading click_plugins-1.1.1-py2.py3-none-any.whl (7.5 kB)\n",
            "Requirement already satisfied: click>=4.0 in /usr/local/lib/python3.7/dist-packages (from fiona>=1.8->geopandas) (7.1.2)\n",
            "Requirement already satisfied: setuptools in /usr/local/lib/python3.7/dist-packages (from fiona>=1.8->geopandas) (57.2.0)\n",
            "Collecting munch\n",
            "  Downloading munch-2.5.0-py2.py3-none-any.whl (10 kB)\n",
            "Requirement already satisfied: six>=1.7 in /usr/local/lib/python3.7/dist-packages (from fiona>=1.8->geopandas) (1.15.0)\n",
            "Requirement already satisfied: pytz>=2017.2 in /usr/local/lib/python3.7/dist-packages (from pandas>=0.24.0->geopandas) (2018.9)\n",
            "Requirement already satisfied: numpy>=1.15.4 in /usr/local/lib/python3.7/dist-packages (from pandas>=0.24.0->geopandas) (1.19.5)\n",
            "Requirement already satisfied: python-dateutil>=2.7.3 in /usr/local/lib/python3.7/dist-packages (from pandas>=0.24.0->geopandas) (2.8.1)\n",
            "Installing collected packages: munch, cligj, click-plugins, pyproj, fiona, geopandas\n",
            "Successfully installed click-plugins-1.1.1 cligj-0.7.2 fiona-1.8.20 geopandas-0.9.0 munch-2.5.0 pyproj-3.1.0\n"
          ],
          "name": "stdout"
        }
      ]
    },
    {
      "cell_type": "code",
      "metadata": {
        "id": "WwRovsXEEYWb"
      },
      "source": [
        "import pandas as pd\n",
        "import geopandas as gpd\n",
        "import numpy as np\n",
        "import requests\n",
        "import shapely\n",
        "import matplotlib.pyplot as plot\n",
        "%matplotlib inline"
      ],
      "execution_count": null,
      "outputs": []
    },
    {
      "cell_type": "code",
      "metadata": {
        "colab": {
          "base_uri": "https://localhost:8080/"
        },
        "id": "PdLTcWSKDRJZ",
        "outputId": "0c990fe5-5522-4e55-d159-ff86adb829c8"
      },
      "source": [
        "from google.colab import drive\n",
        "drive.mount('/content/drive')"
      ],
      "execution_count": null,
      "outputs": [
        {
          "output_type": "stream",
          "text": [
            "Mounted at /content/drive\n"
          ],
          "name": "stdout"
        }
      ]
    },
    {
      "cell_type": "markdown",
      "metadata": {
        "id": "3BQvq0ktEeHa"
      },
      "source": [
        "# **Reading Inputs**\n",
        "\n",
        "Here, we input Toronto Travel time data for January 2020 to March 2020. We consider the hourly aggregate for modeling. "
      ]
    },
    {
      "cell_type": "code",
      "metadata": {
        "id": "y5ovQgO_EjHS"
      },
      "source": [
        "travel_times = pd.read_csv('/content/drive/MyDrive/Colab Notebooks/ETA/Toronto/Travel_Times.csv')\n",
        "toronto_neighbourhood_hourly = pd.read_csv('/content/drive/MyDrive/Colab Notebooks/ETA/Toronto/toronto-neighbourhoods-2020-1-All-HourlyAggregate.csv')"
      ],
      "execution_count": null,
      "outputs": []
    },
    {
      "cell_type": "markdown",
      "metadata": {
        "id": "OYwaDKt_RZ2d"
      },
      "source": [
        "We would like to use hourly travel time average for modeling. Let's use this first, then you can play around with other time-series data!"
      ]
    },
    {
      "cell_type": "code",
      "metadata": {
        "colab": {
          "base_uri": "https://localhost:8080/",
          "height": 408
        },
        "id": "AiJecumtd-EQ",
        "outputId": "df474c42-d81d-43ae-aa68-909b953f8118"
      },
      "source": [
        "travel_times.tail()"
      ],
      "execution_count": null,
      "outputs": [
        {
          "output_type": "execute_result",
          "data": {
            "text/html": [
              "<div>\n",
              "<style scoped>\n",
              "    .dataframe tbody tr th:only-of-type {\n",
              "        vertical-align: middle;\n",
              "    }\n",
              "\n",
              "    .dataframe tbody tr th {\n",
              "        vertical-align: top;\n",
              "    }\n",
              "\n",
              "    .dataframe thead th {\n",
              "        text-align: right;\n",
              "    }\n",
              "</style>\n",
              "<table border=\"1\" class=\"dataframe\">\n",
              "  <thead>\n",
              "    <tr style=\"text-align: right;\">\n",
              "      <th></th>\n",
              "      <th>Origin Movement ID</th>\n",
              "      <th>Origin Display Name</th>\n",
              "      <th>Destination Movement ID</th>\n",
              "      <th>Destination Display Name</th>\n",
              "      <th>Date Range</th>\n",
              "      <th>Mean Travel Time (Seconds)</th>\n",
              "      <th>Range - Lower Bound Travel Time (Seconds)</th>\n",
              "      <th>Range - Upper Bound Travel Time (Seconds)</th>\n",
              "    </tr>\n",
              "  </thead>\n",
              "  <tbody>\n",
              "    <tr>\n",
              "      <th>136</th>\n",
              "      <td>113</td>\n",
              "      <td>Saint Basil Lane, Bay Cloverhill, Old Toronto,...</td>\n",
              "      <td>137</td>\n",
              "      <td>0 Treerun Avenue, Milliken, Scarborough, Toronto</td>\n",
              "      <td>1/1/2020 - 3/31/2020, Every day, Daily Average</td>\n",
              "      <td>1839</td>\n",
              "      <td>1352</td>\n",
              "      <td>2499</td>\n",
              "    </tr>\n",
              "    <tr>\n",
              "      <th>137</th>\n",
              "      <td>113</td>\n",
              "      <td>Saint Basil Lane, Bay Cloverhill, Old Toronto,...</td>\n",
              "      <td>138</td>\n",
              "      <td>0 Livonia Place, Morningside, Scarborough, Tor...</td>\n",
              "      <td>1/1/2020 - 3/31/2020, Every day, Daily Average</td>\n",
              "      <td>1625</td>\n",
              "      <td>1216</td>\n",
              "      <td>2170</td>\n",
              "    </tr>\n",
              "    <tr>\n",
              "      <th>138</th>\n",
              "      <td>113</td>\n",
              "      <td>Saint Basil Lane, Bay Cloverhill, Old Toronto,...</td>\n",
              "      <td>139</td>\n",
              "      <td>0 Rolph Road, Leaside, East York, Toronto</td>\n",
              "      <td>1/1/2020 - 3/31/2020, Every day, Daily Average</td>\n",
              "      <td>895</td>\n",
              "      <td>624</td>\n",
              "      <td>1282</td>\n",
              "    </tr>\n",
              "    <tr>\n",
              "      <th>139</th>\n",
              "      <td>113</td>\n",
              "      <td>Saint Basil Lane, Bay Cloverhill, Old Toronto,...</td>\n",
              "      <td>140</td>\n",
              "      <td>900 York Beltline Trail, Briar Hill - Belgravi...</td>\n",
              "      <td>1/1/2020 - 3/31/2020, Every day, Daily Average</td>\n",
              "      <td>1446</td>\n",
              "      <td>1090</td>\n",
              "      <td>1916</td>\n",
              "    </tr>\n",
              "    <tr>\n",
              "      <th>140</th>\n",
              "      <td>113</td>\n",
              "      <td>Saint Basil Lane, Bay Cloverhill, Old Toronto,...</td>\n",
              "      <td>141</td>\n",
              "      <td>Water's Edge Promenade, Downtown, Old Toronto,...</td>\n",
              "      <td>1/1/2020 - 3/31/2020, Every day, Daily Average</td>\n",
              "      <td>339</td>\n",
              "      <td>154</td>\n",
              "      <td>742</td>\n",
              "    </tr>\n",
              "  </tbody>\n",
              "</table>\n",
              "</div>"
            ],
            "text/plain": [
              "     Origin Movement ID  ... Range - Upper Bound Travel Time (Seconds)\n",
              "136                 113  ...                                      2499\n",
              "137                 113  ...                                      2170\n",
              "138                 113  ...                                      1282\n",
              "139                 113  ...                                      1916\n",
              "140                 113  ...                                       742\n",
              "\n",
              "[5 rows x 8 columns]"
            ]
          },
          "metadata": {
            "tags": []
          },
          "execution_count": 5
        }
      ]
    },
    {
      "cell_type": "code",
      "metadata": {
        "colab": {
          "base_uri": "https://localhost:8080/",
          "height": 204
        },
        "id": "STjMtOjBFB4Q",
        "outputId": "360e71d8-2e7c-49b0-b0fa-7f7c8861b4e8"
      },
      "source": [
        "toronto_neighbourhood_hourly.head(5)"
      ],
      "execution_count": null,
      "outputs": [
        {
          "output_type": "execute_result",
          "data": {
            "text/html": [
              "<div>\n",
              "<style scoped>\n",
              "    .dataframe tbody tr th:only-of-type {\n",
              "        vertical-align: middle;\n",
              "    }\n",
              "\n",
              "    .dataframe tbody tr th {\n",
              "        vertical-align: top;\n",
              "    }\n",
              "\n",
              "    .dataframe thead th {\n",
              "        text-align: right;\n",
              "    }\n",
              "</style>\n",
              "<table border=\"1\" class=\"dataframe\">\n",
              "  <thead>\n",
              "    <tr style=\"text-align: right;\">\n",
              "      <th></th>\n",
              "      <th>sourceid</th>\n",
              "      <th>dstid</th>\n",
              "      <th>hod</th>\n",
              "      <th>mean_travel_time</th>\n",
              "      <th>standard_deviation_travel_time</th>\n",
              "      <th>geometric_mean_travel_time</th>\n",
              "      <th>geometric_standard_deviation_travel_time</th>\n",
              "    </tr>\n",
              "  </thead>\n",
              "  <tbody>\n",
              "    <tr>\n",
              "      <th>0</th>\n",
              "      <td>33</td>\n",
              "      <td>135</td>\n",
              "      <td>7</td>\n",
              "      <td>2333.88</td>\n",
              "      <td>884.45</td>\n",
              "      <td>2188.31</td>\n",
              "      <td>1.42</td>\n",
              "    </tr>\n",
              "    <tr>\n",
              "      <th>1</th>\n",
              "      <td>132</td>\n",
              "      <td>12</td>\n",
              "      <td>7</td>\n",
              "      <td>1095.12</td>\n",
              "      <td>242.96</td>\n",
              "      <td>1068.57</td>\n",
              "      <td>1.25</td>\n",
              "    </tr>\n",
              "    <tr>\n",
              "      <th>2</th>\n",
              "      <td>130</td>\n",
              "      <td>32</td>\n",
              "      <td>7</td>\n",
              "      <td>2164.54</td>\n",
              "      <td>726.59</td>\n",
              "      <td>2051.44</td>\n",
              "      <td>1.39</td>\n",
              "    </tr>\n",
              "    <tr>\n",
              "      <th>3</th>\n",
              "      <td>131</td>\n",
              "      <td>22</td>\n",
              "      <td>7</td>\n",
              "      <td>1486.98</td>\n",
              "      <td>412.22</td>\n",
              "      <td>1433.79</td>\n",
              "      <td>1.31</td>\n",
              "    </tr>\n",
              "    <tr>\n",
              "      <th>4</th>\n",
              "      <td>66</td>\n",
              "      <td>2</td>\n",
              "      <td>18</td>\n",
              "      <td>2092.00</td>\n",
              "      <td>384.75</td>\n",
              "      <td>2056.50</td>\n",
              "      <td>1.20</td>\n",
              "    </tr>\n",
              "  </tbody>\n",
              "</table>\n",
              "</div>"
            ],
            "text/plain": [
              "   sourceid  ...  geometric_standard_deviation_travel_time\n",
              "0        33  ...                                      1.42\n",
              "1       132  ...                                      1.25\n",
              "2       130  ...                                      1.39\n",
              "3       131  ...                                      1.31\n",
              "4        66  ...                                      1.20\n",
              "\n",
              "[5 rows x 7 columns]"
            ]
          },
          "metadata": {
            "tags": []
          },
          "execution_count": 6
        }
      ]
    },
    {
      "cell_type": "markdown",
      "metadata": {
        "id": "EwkO46dA-s42"
      },
      "source": [
        "Mean travel time in Toronto"
      ]
    },
    {
      "cell_type": "code",
      "metadata": {
        "colab": {
          "base_uri": "https://localhost:8080/",
          "height": 488
        },
        "id": "xDtDKMDZFlgq",
        "outputId": "18c5040b-e80e-4e50-d87b-6150f8e22a13"
      },
      "source": [
        "mean_travel_time_by_hour_of_day = toronto_neighbourhood_hourly.groupby('hod')['mean_travel_time'].mean()/60\n",
        "plt = mean_travel_time_by_hour_of_day.plot(kind=\"bar\", figsize=(16,7))\n",
        "plt.set_title('Mean travel times around Toronto', fontsize=20)\n",
        "plt.set_xlabel('Hour of Day', fontsize = 16)\n",
        "plt.set_ylabel('Mean travel time in mins', fontsize = 16)"
      ],
      "execution_count": null,
      "outputs": [
        {
          "output_type": "execute_result",
          "data": {
            "text/plain": [
              "Text(0, 0.5, 'Mean travel time in mins')"
            ]
          },
          "metadata": {
            "tags": []
          },
          "execution_count": 7
        },
        {
          "output_type": "display_data",
          "data": {
            "image/png": "[encoded data removed]",
            "text/plain": [
              "<Figure size 1152x504 with 1 Axes>"
            ]
          },
          "metadata": {
            "tags": [],
            "needs_background": "light"
          }
        }
      ]
    },
    {
      "cell_type": "markdown",
      "metadata": {
        "id": "NhlZuuJJ-3lB"
      },
      "source": [
        "Mean travel time in Toronto"
      ]
    },
    {
      "cell_type": "code",
      "metadata": {
        "colab": {
          "base_uri": "https://localhost:8080/",
          "height": 486
        },
        "id": "R2XsjTlSG_BF",
        "outputId": "2e64c5df-25b2-40cd-86f5-a9db36778e2d"
      },
      "source": [
        "std_dev_travel_time_by_hour_of_day = toronto_neighbourhood_hourly.groupby('hod')['standard_deviation_travel_time'].mean()/60\n",
        "plt = std_dev_travel_time_by_hour_of_day.plot(kind=\"bar\", figsize = (16,7))\n",
        "plt.set_title('Std Dev of travel times around Toronto', fontsize =20)\n",
        "plt.set_xlabel('Hour of Day', fontsize = 12)\n",
        "plt.set_ylabel('Std Dev off travel time in mins', fontsize = 12)"
      ],
      "execution_count": null,
      "outputs": [
        {
          "output_type": "execute_result",
          "data": {
            "text/plain": [
              "Text(0, 0.5, 'Std Dev off travel time in mins')"
            ]
          },
          "metadata": {
            "tags": []
          },
          "execution_count": 8
        },
        {
          "output_type": "display_data",
          "data": {
            "image/png": "[encoded data removed]",
            "text/plain": [
              "<Figure size 1152x504 with 1 Axes>"
            ]
          },
          "metadata": {
            "tags": [],
            "needs_background": "light"
          }
        }
      ]
    },
    {
      "cell_type": "markdown",
      "metadata": {
        "id": "dVGeE7u8ITxQ"
      },
      "source": [
        "# **The Json Data (Map)**"
      ]
    },
    {
      "cell_type": "markdown",
      "metadata": {
        "id": "JGyb70ON-_bg"
      },
      "source": [
        "Load json data and plot it"
      ]
    },
    {
      "cell_type": "code",
      "metadata": {
        "id": "WlPR3SliH3qr"
      },
      "source": [
        "toronto = gpd.read_file('/content/drive/MyDrive/Colab Notebooks/ETA/Toronto/toronto_neighbourhoods.json')"
      ],
      "execution_count": null,
      "outputs": []
    },
    {
      "cell_type": "code",
      "metadata": {
        "colab": {
          "base_uri": "https://localhost:8080/",
          "height": 282
        },
        "id": "7FKb80L1Ifm0",
        "outputId": "ca346ec5-3523-4f0f-adf7-dd501251a22d"
      },
      "source": [
        "toronto.plot()"
      ],
      "execution_count": null,
      "outputs": [
        {
          "output_type": "execute_result",
          "data": {
            "text/plain": [
              "<matplotlib.axes._subplots.AxesSubplot at 0x7f4472fdb710>"
            ]
          },
          "metadata": {
            "tags": []
          },
          "execution_count": 10
        },
        {
          "output_type": "display_data",
          "data": {
            "image/png": "[encoded data removed]",
            "text/plain": [
              "<Figure size 432x288 with 1 Axes>"
            ]
          },
          "metadata": {
            "tags": [],
            "needs_background": "light"
          }
        }
      ]
    },
    {
      "cell_type": "code",
      "metadata": {
        "colab": {
          "base_uri": "https://localhost:8080/",
          "height": 204
        },
        "id": "H8OEGfBvIiRr",
        "outputId": "176b3e94-da5a-4dd3-fd5b-9ef88ddd0575"
      },
      "source": [
        "toronto.head()"
      ],
      "execution_count": null,
      "outputs": [
        {
          "output_type": "execute_result",
          "data": {
            "text/html": [
              "<div>\n",
              "<style scoped>\n",
              "    .dataframe tbody tr th:only-of-type {\n",
              "        vertical-align: middle;\n",
              "    }\n",
              "\n",
              "    .dataframe tbody tr th {\n",
              "        vertical-align: top;\n",
              "    }\n",
              "\n",
              "    .dataframe thead th {\n",
              "        text-align: right;\n",
              "    }\n",
              "</style>\n",
              "<table border=\"1\" class=\"dataframe\">\n",
              "  <thead>\n",
              "    <tr style=\"text-align: right;\">\n",
              "      <th></th>\n",
              "      <th>MOVEMENT_ID</th>\n",
              "      <th>DISPLAY_NAME</th>\n",
              "      <th>geometry</th>\n",
              "    </tr>\n",
              "  </thead>\n",
              "  <tbody>\n",
              "    <tr>\n",
              "      <th>0</th>\n",
              "      <td>1</td>\n",
              "      <td>York University Busway, York University Height...</td>\n",
              "      <td>MULTIPOLYGON (((-79.50529 43.75987, -79.50488 ...</td>\n",
              "    </tr>\n",
              "    <tr>\n",
              "      <th>1</th>\n",
              "      <td>2</td>\n",
              "      <td>0 Hambly Avenue, The Beach, Old Toronto, Toronto</td>\n",
              "      <td>MULTIPOLYGON (((-79.31485 43.66674, -79.31356 ...</td>\n",
              "    </tr>\n",
              "    <tr>\n",
              "      <th>2</th>\n",
              "      <td>3</td>\n",
              "      <td>3400 Kingston Road, Scarborough Village, Scarb...</td>\n",
              "      <td>MULTIPOLYGON (((-79.21397 43.72676, -79.21400 ...</td>\n",
              "    </tr>\n",
              "    <tr>\n",
              "      <th>3</th>\n",
              "      <td>4</td>\n",
              "      <td>100 Dunn Avenue, Parkdale, Old Toronto, Toronto</td>\n",
              "      <td>MULTIPOLYGON (((-79.42777 43.62979, -79.42948 ...</td>\n",
              "    </tr>\n",
              "    <tr>\n",
              "      <th>4</th>\n",
              "      <td>5</td>\n",
              "      <td>0 Carlaw Avenue, Leslieville, Old Toronto, Tor...</td>\n",
              "      <td>MULTIPOLYGON (((-79.32868 43.64745, -79.32867 ...</td>\n",
              "    </tr>\n",
              "  </tbody>\n",
              "</table>\n",
              "</div>"
            ],
            "text/plain": [
              "  MOVEMENT_ID  ...                                           geometry\n",
              "0           1  ...  MULTIPOLYGON (((-79.50529 43.75987, -79.50488 ...\n",
              "1           2  ...  MULTIPOLYGON (((-79.31485 43.66674, -79.31356 ...\n",
              "2           3  ...  MULTIPOLYGON (((-79.21397 43.72676, -79.21400 ...\n",
              "3           4  ...  MULTIPOLYGON (((-79.42777 43.62979, -79.42948 ...\n",
              "4           5  ...  MULTIPOLYGON (((-79.32868 43.64745, -79.32867 ...\n",
              "\n",
              "[5 rows x 3 columns]"
            ]
          },
          "metadata": {
            "tags": []
          },
          "execution_count": 11
        }
      ]
    },
    {
      "cell_type": "markdown",
      "metadata": {
        "id": "C1JTSxTBIrJp"
      },
      "source": [
        "# **Picking centroids to represent an area**"
      ]
    },
    {
      "cell_type": "code",
      "metadata": {
        "colab": {
          "base_uri": "https://localhost:8080/",
          "height": 500
        },
        "id": "TPA-1NOlIlgZ",
        "outputId": "7ff3a280-dff7-451f-c08c-31a95ec91cf1"
      },
      "source": [
        "toronto = toronto.drop(columns=['MOVEMENT_ID'])\n",
        "toronto_c = toronto.copy()\n",
        "toronto_c.geometry = toronto_c['geometry'].centroid\n",
        "fig, ax = plot.subplots(figsize=(9,9))\n",
        "toronto.plot(color='grey',ax=ax)\n",
        "toronto_c.plot(color='red',ax=ax)"
      ],
      "execution_count": null,
      "outputs": [
        {
          "output_type": "stream",
          "text": [
            "/usr/local/lib/python3.7/dist-packages/ipykernel_launcher.py:3: UserWarning: Geometry is in a geographic CRS. Results from 'centroid' are likely incorrect. Use 'GeoSeries.to_crs()' to re-project geometries to a projected CRS before this operation.\n",
            "\n",
            "  This is separate from the ipykernel package so we can avoid doing imports until\n"
          ],
          "name": "stderr"
        },
        {
          "output_type": "execute_result",
          "data": {
            "text/plain": [
              "<matplotlib.axes._subplots.AxesSubplot at 0x7f4472fd6550>"
            ]
          },
          "metadata": {
            "tags": []
          },
          "execution_count": 12
        },
        {
          "output_type": "display_data",
          "data": {
            "image/png": "[encoded data removed]",
            "text/plain": [
              "<Figure size 648x648 with 1 Axes>"
            ]
          },
          "metadata": {
            "tags": [],
            "needs_background": "light"
          }
        }
      ]
    },
    {
      "cell_type": "code",
      "metadata": {
        "colab": {
          "base_uri": "https://localhost:8080/",
          "height": 204
        },
        "id": "-XdGblvcJ7hG",
        "outputId": "bd600425-3aac-4671-c61c-a4068427c90e"
      },
      "source": [
        "id_to_dest = travel_times[['Destination Movement ID', 'Destination Display Name']]\n",
        "id_to_dest.columns = ['id', 'name']\n",
        "id_to_dest.head()"
      ],
      "execution_count": null,
      "outputs": [
        {
          "output_type": "execute_result",
          "data": {
            "text/html": [
              "<div>\n",
              "<style scoped>\n",
              "    .dataframe tbody tr th:only-of-type {\n",
              "        vertical-align: middle;\n",
              "    }\n",
              "\n",
              "    .dataframe tbody tr th {\n",
              "        vertical-align: top;\n",
              "    }\n",
              "\n",
              "    .dataframe thead th {\n",
              "        text-align: right;\n",
              "    }\n",
              "</style>\n",
              "<table border=\"1\" class=\"dataframe\">\n",
              "  <thead>\n",
              "    <tr style=\"text-align: right;\">\n",
              "      <th></th>\n",
              "      <th>id</th>\n",
              "      <th>name</th>\n",
              "    </tr>\n",
              "  </thead>\n",
              "  <tbody>\n",
              "    <tr>\n",
              "      <th>0</th>\n",
              "      <td>1</td>\n",
              "      <td>York University Busway, York University Height...</td>\n",
              "    </tr>\n",
              "    <tr>\n",
              "      <th>1</th>\n",
              "      <td>2</td>\n",
              "      <td>0 Hambly Avenue, The Beach, Old Toronto, Toronto</td>\n",
              "    </tr>\n",
              "    <tr>\n",
              "      <th>2</th>\n",
              "      <td>3</td>\n",
              "      <td>3400 Kingston Road, Scarborough Village, Scarb...</td>\n",
              "    </tr>\n",
              "    <tr>\n",
              "      <th>3</th>\n",
              "      <td>4</td>\n",
              "      <td>100 Dunn Avenue, Parkdale, Old Toronto, Toronto</td>\n",
              "    </tr>\n",
              "    <tr>\n",
              "      <th>4</th>\n",
              "      <td>5</td>\n",
              "      <td>0 Carlaw Avenue, Leslieville, Old Toronto, Tor...</td>\n",
              "    </tr>\n",
              "  </tbody>\n",
              "</table>\n",
              "</div>"
            ],
            "text/plain": [
              "   id                                               name\n",
              "0   1  York University Busway, York University Height...\n",
              "1   2   0 Hambly Avenue, The Beach, Old Toronto, Toronto\n",
              "2   3  3400 Kingston Road, Scarborough Village, Scarb...\n",
              "3   4    100 Dunn Avenue, Parkdale, Old Toronto, Toronto\n",
              "4   5  0 Carlaw Avenue, Leslieville, Old Toronto, Tor..."
            ]
          },
          "metadata": {
            "tags": []
          },
          "execution_count": 13
        }
      ]
    },
    {
      "cell_type": "markdown",
      "metadata": {
        "id": "NCHLqMxJTqk-"
      },
      "source": [
        "# Get some random points from each ward to diversify representation"
      ]
    },
    {
      "cell_type": "code",
      "metadata": {
        "colab": {
          "base_uri": "https://localhost:8080/",
          "height": 204
        },
        "id": "YaSf9KYeKFYS",
        "outputId": "fc2ec7e8-0abf-48cc-d7ab-4daabcca5257"
      },
      "source": [
        "from shapely.geometry import Point\n",
        "import random\n",
        "\n",
        "# The number of rows with random points to be created corresponding to each row in source df\n",
        "number = 3\n",
        "\n",
        "def random_points_in_polygon(number, polygon):\n",
        "    points = []\n",
        "    min_x, min_y, max_x, max_y = polygon.bounds\n",
        "    i= 0\n",
        "    while i < number:\n",
        "        point = Point(random.uniform(min_x, max_x), random.uniform(min_y, max_y))\n",
        "        if polygon.contains(point):\n",
        "            points.append(point)\n",
        "            i += 1\n",
        "    return points\n",
        "\n",
        "def diversify_geo_data(df):\n",
        "    new_df = gpd.GeoDataFrame()\n",
        "    common_columns = df.columns\n",
        "    common_columns.tolist().remove('geometry')\n",
        "    for row in df.itertuples():\n",
        "        points = random_points_in_polygon(number, row.geometry)\n",
        "        for point in points:\n",
        "            tmp = gpd.GeoDataFrame(columns=df.columns, data=[list(row[1:2]) + [point]])\n",
        "            new_df = new_df.append(tmp, ignore_index=True)\n",
        "    return new_df\n",
        "            \n",
        "\n",
        "diversified_points = diversify_geo_data(toronto)\n",
        "diversified_points.sample(5)"
      ],
      "execution_count": null,
      "outputs": [
        {
          "output_type": "execute_result",
          "data": {
            "text/html": [
              "<div>\n",
              "<style scoped>\n",
              "    .dataframe tbody tr th:only-of-type {\n",
              "        vertical-align: middle;\n",
              "    }\n",
              "\n",
              "    .dataframe tbody tr th {\n",
              "        vertical-align: top;\n",
              "    }\n",
              "\n",
              "    .dataframe thead th {\n",
              "        text-align: right;\n",
              "    }\n",
              "</style>\n",
              "<table border=\"1\" class=\"dataframe\">\n",
              "  <thead>\n",
              "    <tr style=\"text-align: right;\">\n",
              "      <th></th>\n",
              "      <th>DISPLAY_NAME</th>\n",
              "      <th>geometry</th>\n",
              "    </tr>\n",
              "  </thead>\n",
              "  <tbody>\n",
              "    <tr>\n",
              "      <th>37</th>\n",
              "      <td>0 Rangoon Road, Eringate - Centennial - West D...</td>\n",
              "      <td>POINT (-79.57823 43.67115)</td>\n",
              "    </tr>\n",
              "    <tr>\n",
              "      <th>42</th>\n",
              "      <td>0 McIntosh Street, Cliffside, Scarborough, Tor...</td>\n",
              "      <td>POINT (-79.28626 43.68659)</td>\n",
              "    </tr>\n",
              "    <tr>\n",
              "      <th>302</th>\n",
              "      <td>1900 Lawrence Avenue East, Wexford, Scarboroug...</td>\n",
              "      <td>POINT (-79.31696 43.76722)</td>\n",
              "    </tr>\n",
              "    <tr>\n",
              "      <th>39</th>\n",
              "      <td>0 Duncairn Road, Don Mills, North York, Toronto</td>\n",
              "      <td>POINT (-79.34394 43.73999)</td>\n",
              "    </tr>\n",
              "    <tr>\n",
              "      <th>205</th>\n",
              "      <td>100 Torbrick Road, East Danforth, Old Toronto,...</td>\n",
              "      <td>POINT (-79.32530 43.66258)</td>\n",
              "    </tr>\n",
              "  </tbody>\n",
              "</table>\n",
              "</div>"
            ],
            "text/plain": [
              "                                          DISPLAY_NAME                    geometry\n",
              "37   0 Rangoon Road, Eringate - Centennial - West D...  POINT (-79.57823 43.67115)\n",
              "42   0 McIntosh Street, Cliffside, Scarborough, Tor...  POINT (-79.28626 43.68659)\n",
              "302  1900 Lawrence Avenue East, Wexford, Scarboroug...  POINT (-79.31696 43.76722)\n",
              "39     0 Duncairn Road, Don Mills, North York, Toronto  POINT (-79.34394 43.73999)\n",
              "205  100 Torbrick Road, East Danforth, Old Toronto,...  POINT (-79.32530 43.66258)"
            ]
          },
          "metadata": {
            "tags": []
          },
          "execution_count": 14
        }
      ]
    },
    {
      "cell_type": "code",
      "metadata": {
        "colab": {
          "base_uri": "https://localhost:8080/"
        },
        "id": "4SyGkn8AT_ep",
        "outputId": "f4c1cb85-6dbe-4123-f9ec-3bb955119c68"
      },
      "source": [
        "diversified_points.shape"
      ],
      "execution_count": null,
      "outputs": [
        {
          "output_type": "execute_result",
          "data": {
            "text/plain": [
              "(423, 2)"
            ]
          },
          "metadata": {
            "tags": []
          },
          "execution_count": 15
        }
      ]
    },
    {
      "cell_type": "code",
      "metadata": {
        "colab": {
          "base_uri": "https://localhost:8080/",
          "height": 328
        },
        "id": "moC6jCiRUFAr",
        "outputId": "de576328-617c-4e9b-886f-18854713ccfb"
      },
      "source": [
        "fig, ax = plot.subplots(figsize=(9,9))\n",
        "toronto.plot(color='grey',ax=ax)\n",
        "diversified_points.plot(color='red',ax=ax)"
      ],
      "execution_count": null,
      "outputs": [
        {
          "output_type": "execute_result",
          "data": {
            "text/plain": [
              "<matplotlib.axes._subplots.AxesSubplot at 0x7f4472ef5490>"
            ]
          },
          "metadata": {
            "tags": []
          },
          "execution_count": 16
        },
        {
          "output_type": "display_data",
          "data": {
            "image/png": "[encoded data removed]",
            "text/plain": [
              "<Figure size 648x648 with 1 Axes>"
            ]
          },
          "metadata": {
            "tags": [],
            "needs_background": "light"
          }
        }
      ]
    },
    {
      "cell_type": "markdown",
      "metadata": {
        "id": "FCKRJ3-fUJr4"
      },
      "source": [
        "# Cleaning up data for analysis\n",
        "Got source and destination data and removed unneeded columns like geometric_mean_travel_time and geometric_standard_deviation_travel_time."
      ]
    },
    {
      "cell_type": "code",
      "metadata": {
        "colab": {
          "base_uri": "https://localhost:8080/",
          "height": 289
        },
        "id": "ObOAj92hUHDT",
        "outputId": "cebd33bc-11a7-4b13-f470-4d4da19299a4"
      },
      "source": [
        "time_df = pd.merge(toronto_neighbourhood_hourly, id_to_dest, left_on=['sourceid'], right_on=['id'], how='inner')\n",
        "time_df = time_df.drop(columns=['id', 'geometric_mean_travel_time', 'geometric_standard_deviation_travel_time'])\n",
        "time_df = time_df.rename(columns={'name': 'Source Name'})\n",
        "time_df = pd.merge(time_df, id_to_dest, left_on=['dstid'], right_on=['id'], how='inner')\n",
        "time_df = time_df.drop(columns=['id'])\n",
        "time_df = time_df.rename(columns={'name': 'Destination Name'})\n",
        "time_df = time_df.sort_values(by=['sourceid', 'dstid', 'hod'])\n",
        "time_df.tail(5)"
      ],
      "execution_count": null,
      "outputs": [
        {
          "output_type": "execute_result",
          "data": {
            "text/html": [
              "<div>\n",
              "<style scoped>\n",
              "    .dataframe tbody tr th:only-of-type {\n",
              "        vertical-align: middle;\n",
              "    }\n",
              "\n",
              "    .dataframe tbody tr th {\n",
              "        vertical-align: top;\n",
              "    }\n",
              "\n",
              "    .dataframe thead th {\n",
              "        text-align: right;\n",
              "    }\n",
              "</style>\n",
              "<table border=\"1\" class=\"dataframe\">\n",
              "  <thead>\n",
              "    <tr style=\"text-align: right;\">\n",
              "      <th></th>\n",
              "      <th>sourceid</th>\n",
              "      <th>dstid</th>\n",
              "      <th>hod</th>\n",
              "      <th>mean_travel_time</th>\n",
              "      <th>standard_deviation_travel_time</th>\n",
              "      <th>Source Name</th>\n",
              "      <th>Destination Name</th>\n",
              "    </tr>\n",
              "  </thead>\n",
              "  <tbody>\n",
              "    <tr>\n",
              "      <th>279984</th>\n",
              "      <td>141</td>\n",
              "      <td>140</td>\n",
              "      <td>20</td>\n",
              "      <td>1518.76</td>\n",
              "      <td>284.21</td>\n",
              "      <td>Water's Edge Promenade, Downtown, Old Toronto,...</td>\n",
              "      <td>900 York Beltline Trail, Briar Hill - Belgravi...</td>\n",
              "    </tr>\n",
              "    <tr>\n",
              "      <th>279974</th>\n",
              "      <td>141</td>\n",
              "      <td>140</td>\n",
              "      <td>21</td>\n",
              "      <td>1528.77</td>\n",
              "      <td>300.13</td>\n",
              "      <td>Water's Edge Promenade, Downtown, Old Toronto,...</td>\n",
              "      <td>900 York Beltline Trail, Briar Hill - Belgravi...</td>\n",
              "    </tr>\n",
              "    <tr>\n",
              "      <th>279980</th>\n",
              "      <td>141</td>\n",
              "      <td>140</td>\n",
              "      <td>22</td>\n",
              "      <td>1481.58</td>\n",
              "      <td>303.79</td>\n",
              "      <td>Water's Edge Promenade, Downtown, Old Toronto,...</td>\n",
              "      <td>900 York Beltline Trail, Briar Hill - Belgravi...</td>\n",
              "    </tr>\n",
              "    <tr>\n",
              "      <th>279972</th>\n",
              "      <td>141</td>\n",
              "      <td>140</td>\n",
              "      <td>23</td>\n",
              "      <td>1431.77</td>\n",
              "      <td>301.57</td>\n",
              "      <td>Water's Edge Promenade, Downtown, Old Toronto,...</td>\n",
              "      <td>900 York Beltline Trail, Briar Hill - Belgravi...</td>\n",
              "    </tr>\n",
              "    <tr>\n",
              "      <th>369895</th>\n",
              "      <td>141</td>\n",
              "      <td>141</td>\n",
              "      <td>23</td>\n",
              "      <td>297.76</td>\n",
              "      <td>229.63</td>\n",
              "      <td>Water's Edge Promenade, Downtown, Old Toronto,...</td>\n",
              "      <td>Water's Edge Promenade, Downtown, Old Toronto,...</td>\n",
              "    </tr>\n",
              "  </tbody>\n",
              "</table>\n",
              "</div>"
            ],
            "text/plain": [
              "        sourceid  ...                                   Destination Name\n",
              "279984       141  ...  900 York Beltline Trail, Briar Hill - Belgravi...\n",
              "279974       141  ...  900 York Beltline Trail, Briar Hill - Belgravi...\n",
              "279980       141  ...  900 York Beltline Trail, Briar Hill - Belgravi...\n",
              "279972       141  ...  900 York Beltline Trail, Briar Hill - Belgravi...\n",
              "369895       141  ...  Water's Edge Promenade, Downtown, Old Toronto,...\n",
              "\n",
              "[5 rows x 7 columns]"
            ]
          },
          "metadata": {
            "tags": []
          },
          "execution_count": 17
        }
      ]
    },
    {
      "cell_type": "code",
      "metadata": {
        "colab": {
          "base_uri": "https://localhost:8080/"
        },
        "id": "7u9lc_3yUi4X",
        "outputId": "5087ea7d-60e4-4725-d2c2-dec6fa2c2b4f"
      },
      "source": [
        "toronto_c.shape"
      ],
      "execution_count": null,
      "outputs": [
        {
          "output_type": "execute_result",
          "data": {
            "text/plain": [
              "(141, 2)"
            ]
          },
          "metadata": {
            "tags": []
          },
          "execution_count": 18
        }
      ]
    },
    {
      "cell_type": "code",
      "metadata": {
        "colab": {
          "base_uri": "https://localhost:8080/"
        },
        "id": "0Ov3ze9xUnk6",
        "outputId": "2083b197-ebc1-4b4c-d659-107a21db9a4a"
      },
      "source": [
        "diversified_points.shape"
      ],
      "execution_count": null,
      "outputs": [
        {
          "output_type": "execute_result",
          "data": {
            "text/plain": [
              "(423, 2)"
            ]
          },
          "metadata": {
            "tags": []
          },
          "execution_count": 19
        }
      ]
    },
    {
      "cell_type": "code",
      "metadata": {
        "colab": {
          "base_uri": "https://localhost:8080/"
        },
        "id": "UQ1zmdzGUqDe",
        "outputId": "cbb84b2b-00ae-4815-ca9f-eae0ea628c07"
      },
      "source": [
        "full_toronto = toronto_c.append(diversified_points, ignore_index=True)\n",
        "full_toronto.shape"
      ],
      "execution_count": null,
      "outputs": [
        {
          "output_type": "execute_result",
          "data": {
            "text/plain": [
              "(564, 2)"
            ]
          },
          "metadata": {
            "tags": []
          },
          "execution_count": 20
        }
      ]
    },
    {
      "cell_type": "code",
      "metadata": {
        "colab": {
          "base_uri": "https://localhost:8080/",
          "height": 204
        },
        "id": "zYEisQ0iVYR9",
        "outputId": "fa45dbeb-379a-419c-b55e-8844f075b188"
      },
      "source": [
        "full_toronto.head()"
      ],
      "execution_count": null,
      "outputs": [
        {
          "output_type": "execute_result",
          "data": {
            "text/html": [
              "<div>\n",
              "<style scoped>\n",
              "    .dataframe tbody tr th:only-of-type {\n",
              "        vertical-align: middle;\n",
              "    }\n",
              "\n",
              "    .dataframe tbody tr th {\n",
              "        vertical-align: top;\n",
              "    }\n",
              "\n",
              "    .dataframe thead th {\n",
              "        text-align: right;\n",
              "    }\n",
              "</style>\n",
              "<table border=\"1\" class=\"dataframe\">\n",
              "  <thead>\n",
              "    <tr style=\"text-align: right;\">\n",
              "      <th></th>\n",
              "      <th>DISPLAY_NAME</th>\n",
              "      <th>geometry</th>\n",
              "    </tr>\n",
              "  </thead>\n",
              "  <tbody>\n",
              "    <tr>\n",
              "      <th>0</th>\n",
              "      <td>York University Busway, York University Height...</td>\n",
              "      <td>POINT (-79.48888 43.76574)</td>\n",
              "    </tr>\n",
              "    <tr>\n",
              "      <th>1</th>\n",
              "      <td>0 Hambly Avenue, The Beach, Old Toronto, Toronto</td>\n",
              "      <td>POINT (-79.29960 43.67105)</td>\n",
              "    </tr>\n",
              "    <tr>\n",
              "      <th>2</th>\n",
              "      <td>3400 Kingston Road, Scarborough Village, Scarb...</td>\n",
              "      <td>POINT (-79.21681 43.73865)</td>\n",
              "    </tr>\n",
              "    <tr>\n",
              "      <th>3</th>\n",
              "      <td>100 Dunn Avenue, Parkdale, Old Toronto, Toronto</td>\n",
              "      <td>POINT (-79.43934 43.63670)</td>\n",
              "    </tr>\n",
              "    <tr>\n",
              "      <th>4</th>\n",
              "      <td>0 Carlaw Avenue, Leslieville, Old Toronto, Tor...</td>\n",
              "      <td>POINT (-79.33565 43.64929)</td>\n",
              "    </tr>\n",
              "  </tbody>\n",
              "</table>\n",
              "</div>"
            ],
            "text/plain": [
              "                                        DISPLAY_NAME                    geometry\n",
              "0  York University Busway, York University Height...  POINT (-79.48888 43.76574)\n",
              "1   0 Hambly Avenue, The Beach, Old Toronto, Toronto  POINT (-79.29960 43.67105)\n",
              "2  3400 Kingston Road, Scarborough Village, Scarb...  POINT (-79.21681 43.73865)\n",
              "3    100 Dunn Avenue, Parkdale, Old Toronto, Toronto  POINT (-79.43934 43.63670)\n",
              "4  0 Carlaw Avenue, Leslieville, Old Toronto, Tor...  POINT (-79.33565 43.64929)"
            ]
          },
          "metadata": {
            "tags": []
          },
          "execution_count": 21
        }
      ]
    },
    {
      "cell_type": "code",
      "metadata": {
        "colab": {
          "base_uri": "https://localhost:8080/",
          "height": 227
        },
        "id": "-6fEQFXbUr9G",
        "outputId": "60bac14f-7188-4acb-9972-b015281b7ec5"
      },
      "source": [
        "time_df2 = pd.merge(time_df, full_toronto, left_on=['Source Name'], right_on=['DISPLAY_NAME'], how='inner')\n",
        "time_df2 = time_df2.drop(columns=['DISPLAY_NAME'])\n",
        "time_df2 = time_df2.rename(columns = {'geometry': 'Source Geometry'})\n",
        "time_df2 = pd.merge(time_df2, full_toronto, left_on=['Destination Name'], right_on=['DISPLAY_NAME'], how='inner')\n",
        "time_df2 = time_df2.drop(columns=['DISPLAY_NAME'])\n",
        "time_df2 = time_df2.rename(columns = {'geometry': 'Destination Geometry'})\n",
        "time_df2.sample(3)"
      ],
      "execution_count": null,
      "outputs": [
        {
          "output_type": "execute_result",
          "data": {
            "text/html": [
              "<div>\n",
              "<style scoped>\n",
              "    .dataframe tbody tr th:only-of-type {\n",
              "        vertical-align: middle;\n",
              "    }\n",
              "\n",
              "    .dataframe tbody tr th {\n",
              "        vertical-align: top;\n",
              "    }\n",
              "\n",
              "    .dataframe thead th {\n",
              "        text-align: right;\n",
              "    }\n",
              "</style>\n",
              "<table border=\"1\" class=\"dataframe\">\n",
              "  <thead>\n",
              "    <tr style=\"text-align: right;\">\n",
              "      <th></th>\n",
              "      <th>sourceid</th>\n",
              "      <th>dstid</th>\n",
              "      <th>hod</th>\n",
              "      <th>mean_travel_time</th>\n",
              "      <th>standard_deviation_travel_time</th>\n",
              "      <th>Source Name</th>\n",
              "      <th>Destination Name</th>\n",
              "      <th>Source Geometry</th>\n",
              "      <th>Destination Geometry</th>\n",
              "    </tr>\n",
              "  </thead>\n",
              "  <tbody>\n",
              "    <tr>\n",
              "      <th>3963176</th>\n",
              "      <td>82</td>\n",
              "      <td>93</td>\n",
              "      <td>21</td>\n",
              "      <td>807.44</td>\n",
              "      <td>327.10</td>\n",
              "      <td>100 Hazelton Avenue, Midtown Toronto, Old Toro...</td>\n",
              "      <td>0 East Liberty Street, Liberty Village, Old To...</td>\n",
              "      <td>POINT (-79.40301 43.67447)</td>\n",
              "      <td>POINT (-79.41242 43.63668)</td>\n",
              "    </tr>\n",
              "    <tr>\n",
              "      <th>1087128</th>\n",
              "      <td>71</td>\n",
              "      <td>28</td>\n",
              "      <td>1</td>\n",
              "      <td>260.80</td>\n",
              "      <td>209.93</td>\n",
              "      <td>0 Corwin Crescent, Wilson Heights, North York,...</td>\n",
              "      <td>0 Liscombe Road, Rustic, North York, Toronto</td>\n",
              "      <td>POINT (-79.45478 43.74868)</td>\n",
              "      <td>POINT (-79.49809 43.71161)</td>\n",
              "    </tr>\n",
              "    <tr>\n",
              "      <th>2563899</th>\n",
              "      <td>52</td>\n",
              "      <td>62</td>\n",
              "      <td>22</td>\n",
              "      <td>376.49</td>\n",
              "      <td>151.86</td>\n",
              "      <td>0 West Toronto Street, The Junction, York, Tor...</td>\n",
              "      <td>0 Nairn Avenue, Earlscourt, York, Toronto</td>\n",
              "      <td>POINT (-79.46970 43.67181)</td>\n",
              "      <td>POINT (-79.44748 43.67775)</td>\n",
              "    </tr>\n",
              "  </tbody>\n",
              "</table>\n",
              "</div>"
            ],
            "text/plain": [
              "         sourceid  ...        Destination Geometry\n",
              "3963176        82  ...  POINT (-79.41242 43.63668)\n",
              "1087128        71  ...  POINT (-79.49809 43.71161)\n",
              "2563899        52  ...  POINT (-79.44748 43.67775)\n",
              "\n",
              "[3 rows x 9 columns]"
            ]
          },
          "metadata": {
            "tags": []
          },
          "execution_count": 22
        }
      ]
    },
    {
      "cell_type": "code",
      "metadata": {
        "colab": {
          "base_uri": "https://localhost:8080/"
        },
        "id": "KMUHHsLAVrCe",
        "outputId": "56d96eb4-3121-40b8-f23c-cd7a063affae"
      },
      "source": [
        "time_df2.shape"
      ],
      "execution_count": null,
      "outputs": [
        {
          "output_type": "execute_result",
          "data": {
            "text/plain": [
              "(6334176, 9)"
            ]
          },
          "metadata": {
            "tags": []
          },
          "execution_count": 23
        }
      ]
    },
    {
      "cell_type": "markdown",
      "metadata": {
        "id": "bGu2lfJ8_dV7"
      },
      "source": [
        "Create function to save model and file checking, and define output path"
      ]
    },
    {
      "cell_type": "code",
      "metadata": {
        "id": "tDz7ne3hV03P"
      },
      "source": [
        "import pickle\n",
        "def save_object(obj, filename):\n",
        "    with open(filename, 'wb') as output:  # Overwrites any existing file.\n",
        "        pickle.dump(obj, output, pickle.HIGHEST_PROTOCOL)\n",
        "\n",
        "import os.path\n",
        "def file_exists(filename):\n",
        "    return os.path.exists(filename)\n",
        "\n",
        "output_path = '/content/drive/MyDrive/Colab Notebooks/ETA/Toronto/Output/'"
      ],
      "execution_count": null,
      "outputs": []
    },
    {
      "cell_type": "markdown",
      "metadata": {
        "id": "SHK8t67M_vji"
      },
      "source": [
        "Create distance feature between two points"
      ]
    },
    {
      "cell_type": "code",
      "metadata": {
        "id": "QA9RcQuyW5uh"
      },
      "source": [
        "import geopy.distance\n",
        "\n",
        "def calc_distance(x):\n",
        "    src_point = (x['Source Geometry'].y, x['Source Geometry'].x)\n",
        "    dest_point = (x['Destination Geometry'].y, x['Destination Geometry'].x)\n",
        "    return geopy.distance.geodesic(src_point, dest_point).kilometers\n",
        "\n",
        "filename = 'Df_for_modelling.bin'\n",
        "path = output_path + filename\n",
        "if file_exists(path):\n",
        "    # skip to next section since the results here are already precalculated\n",
        "    pass\n",
        "else:\n",
        "    print('Creating distance file')\n",
        "    time_df2['Geodesic Distance'] = time_df2.apply(func = calc_distance, axis=1)\n",
        "    df = time_df2"
      ],
      "execution_count": null,
      "outputs": []
    },
    {
      "cell_type": "code",
      "metadata": {
        "id": "YFCi8Iv8Xeel"
      },
      "source": [
        "filename = 'Df_for_modelling.bin'\n",
        "path = output_path + filename\n",
        "if file_exists(path):\n",
        "    with open(path, 'rb') as file:\n",
        "        final_df = pickle.load(file)\n",
        "else:\n",
        "    print('Creating final df file')\n",
        "    final_df = df.copy()\n",
        "    final_df['Source lat'] = final_df['Source Geometry'].apply(lambda pt: float(pt.y))\n",
        "    final_df['Source long'] = final_df['Source Geometry'].apply(lambda pt: float(pt.x))\n",
        "    final_df['Dest lat'] = final_df['Destination Geometry'].apply(lambda pt: float(pt.y))\n",
        "    final_df['Dest long'] = final_df['Destination Geometry'].apply(lambda pt: float(pt.x))\n",
        "\n",
        "    \n",
        "features = ['Source lat', 'Source long', 'Dest lat', 'Dest long', 'hod', 'Geodesic Distance']\n",
        "outcome = ['mean_travel_time']\n",
        "final_df = final_df[features + outcome]\n",
        "\n",
        "try:\n",
        "    save_object(final_df, output_path + filename)\n",
        "except:\n",
        "    pass\n",
        "  "
      ],
      "execution_count": null,
      "outputs": []
    },
    {
      "cell_type": "code",
      "metadata": {
        "colab": {
          "base_uri": "https://localhost:8080/",
          "height": 204
        },
        "id": "694ha7kex-Uq",
        "outputId": "e56d5357-3c03-4502-83ec-e372a313a5ed"
      },
      "source": [
        "final_df.head()"
      ],
      "execution_count": null,
      "outputs": [
        {
          "output_type": "execute_result",
          "data": {
            "text/html": [
              "<div>\n",
              "<style scoped>\n",
              "    .dataframe tbody tr th:only-of-type {\n",
              "        vertical-align: middle;\n",
              "    }\n",
              "\n",
              "    .dataframe tbody tr th {\n",
              "        vertical-align: top;\n",
              "    }\n",
              "\n",
              "    .dataframe thead th {\n",
              "        text-align: right;\n",
              "    }\n",
              "</style>\n",
              "<table border=\"1\" class=\"dataframe\">\n",
              "  <thead>\n",
              "    <tr style=\"text-align: right;\">\n",
              "      <th></th>\n",
              "      <th>Source lat</th>\n",
              "      <th>Source long</th>\n",
              "      <th>Dest lat</th>\n",
              "      <th>Dest long</th>\n",
              "      <th>hod</th>\n",
              "      <th>Geodesic Distance</th>\n",
              "      <th>mean_travel_time</th>\n",
              "    </tr>\n",
              "  </thead>\n",
              "  <tbody>\n",
              "    <tr>\n",
              "      <th>0</th>\n",
              "      <td>43.765737</td>\n",
              "      <td>-79.488883</td>\n",
              "      <td>43.765737</td>\n",
              "      <td>-79.488883</td>\n",
              "      <td>23</td>\n",
              "      <td>0.000000</td>\n",
              "      <td>264.18</td>\n",
              "    </tr>\n",
              "    <tr>\n",
              "      <th>1</th>\n",
              "      <td>43.765737</td>\n",
              "      <td>-79.488883</td>\n",
              "      <td>43.770078</td>\n",
              "      <td>-79.500575</td>\n",
              "      <td>23</td>\n",
              "      <td>1.057788</td>\n",
              "      <td>264.18</td>\n",
              "    </tr>\n",
              "    <tr>\n",
              "      <th>2</th>\n",
              "      <td>43.765737</td>\n",
              "      <td>-79.488883</td>\n",
              "      <td>43.759129</td>\n",
              "      <td>-79.502246</td>\n",
              "      <td>23</td>\n",
              "      <td>1.302703</td>\n",
              "      <td>264.18</td>\n",
              "    </tr>\n",
              "    <tr>\n",
              "      <th>3</th>\n",
              "      <td>43.765737</td>\n",
              "      <td>-79.488883</td>\n",
              "      <td>43.764668</td>\n",
              "      <td>-79.494915</td>\n",
              "      <td>23</td>\n",
              "      <td>0.500081</td>\n",
              "      <td>264.18</td>\n",
              "    </tr>\n",
              "    <tr>\n",
              "      <th>4</th>\n",
              "      <td>43.770078</td>\n",
              "      <td>-79.500575</td>\n",
              "      <td>43.765737</td>\n",
              "      <td>-79.488883</td>\n",
              "      <td>23</td>\n",
              "      <td>1.057788</td>\n",
              "      <td>264.18</td>\n",
              "    </tr>\n",
              "  </tbody>\n",
              "</table>\n",
              "</div>"
            ],
            "text/plain": [
              "   Source lat  Source long   Dest lat  ...  hod  Geodesic Distance  mean_travel_time\n",
              "0   43.765737   -79.488883  43.765737  ...   23           0.000000            264.18\n",
              "1   43.765737   -79.488883  43.770078  ...   23           1.057788            264.18\n",
              "2   43.765737   -79.488883  43.759129  ...   23           1.302703            264.18\n",
              "3   43.765737   -79.488883  43.764668  ...   23           0.500081            264.18\n",
              "4   43.770078   -79.500575  43.765737  ...   23           1.057788            264.18\n",
              "\n",
              "[5 rows x 7 columns]"
            ]
          },
          "metadata": {
            "tags": []
          },
          "execution_count": 6
        }
      ]
    },
    {
      "cell_type": "markdown",
      "metadata": {
        "id": "R5f1Nr2JYu7x"
      },
      "source": [
        "# Modeling\n"
      ]
    },
    {
      "cell_type": "markdown",
      "metadata": {
        "id": "zzXFiJP8AWD_"
      },
      "source": [
        "Train and test splitting"
      ]
    },
    {
      "cell_type": "code",
      "metadata": {
        "id": "PvEKNT57Ytfz"
      },
      "source": [
        "X = final_df[features]\n",
        "y = final_df[outcome]\n",
        "\n",
        "from sklearn.model_selection import train_test_split\n",
        "X_train, X_test, y_train, y_test = train_test_split(X, y, test_size=0.3, random_state=5)"
      ],
      "execution_count": null,
      "outputs": []
    },
    {
      "cell_type": "markdown",
      "metadata": {
        "id": "RY6XDMjpJ6F0"
      },
      "source": [
        "#MLP Regressor with Sklearn"
      ]
    },
    {
      "cell_type": "code",
      "metadata": {
        "id": "ltL5R9woKh-V"
      },
      "source": [
        "from sklearn.neural_network import MLPRegressor\n",
        "\n",
        "regr = MLPRegressor(random_state=1, max_iter=100).fit(X_train, y_train)"
      ],
      "execution_count": null,
      "outputs": []
    },
    {
      "cell_type": "code",
      "metadata": {
        "colab": {
          "base_uri": "https://localhost:8080/"
        },
        "id": "W_CBw0qeKh0f",
        "outputId": "2f6111e7-af69-4e6b-d72e-f62797041956"
      },
      "source": [
        "import numpy as np\n",
        "\n",
        "predictions = regr.predict(X_test)\n",
        "\n",
        "from sklearn import metrics\n",
        "\n",
        "r2 = metrics.r2_score(y_test, predictions)\n",
        "print('R2: {}\\n'.format(r2))\n",
        "\n",
        "mse = metrics.mean_squared_error(y_test, predictions)\n",
        "print('MSE: {}\\n'.format(mse))\n",
        "\n",
        "print('RMSE: {}\\n'.format(np.sqrt(mse)))\n",
        "\n",
        "mae = metrics.mean_absolute_error(y_test, predictions)\n",
        "print('MAE: {}\\n'.format(mae))"
      ],
      "execution_count": null,
      "outputs": [
        {
          "output_type": "stream",
          "text": [
            "R2: 0.6233387159684454\n",
            "\n",
            "MSE: 107636.85853804508\n",
            "\n",
            "RMSE: 328.080567144787\n",
            "\n",
            "MAE: 255.21500604973184\n",
            "\n"
          ],
          "name": "stdout"
        }
      ]
    },
    {
      "cell_type": "code",
      "metadata": {
        "id": "jGmDCJHXK_M6"
      },
      "source": [
        "import matplotlib.pyplot as plt"
      ],
      "execution_count": null,
      "outputs": []
    },
    {
      "cell_type": "code",
      "metadata": {
        "colab": {
          "base_uri": "https://localhost:8080/",
          "height": 349
        },
        "id": "2JxbeOB8K8Lm",
        "outputId": "729c7e98-f5ba-401a-8dfb-fc6998f73b09"
      },
      "source": [
        "x_ax = range(len(y_test))\n",
        "plt.plot(x_ax, y_test, label=\"actual\")\n",
        "plt.plot(x_ax, predictions, label=\"predicted\")\n",
        "\n",
        "plt.title(\"Mean travel times actual and predicted data\")\n",
        "\n",
        "plt.legend()\n",
        "plt.show()"
      ],
      "execution_count": null,
      "outputs": [
        {
          "output_type": "stream",
          "text": [
            "/usr/local/lib/python3.7/dist-packages/IPython/core/pylabtools.py:125: UserWarning: Creating legend with loc=\"best\" can be slow with large amounts of data.\n",
            "  fig.canvas.print_figure(bytes_io, **kw)\n"
          ],
          "name": "stderr"
        },
        {
          "output_type": "display_data",
          "data": {
            "image/png": "[encoded data removed]",
            "text/plain": [
              "<Figure size 432x288 with 1 Axes>"
            ]
          },
          "metadata": {
            "tags": [],
            "needs_background": "light"
          }
        }
      ]
    },
    {
      "cell_type": "code",
      "metadata": {
        "colab": {
          "base_uri": "https://localhost:8080/",
          "height": 279
        },
        "id": "KNb1XrjgK8CI",
        "outputId": "65f66d39-a21d-4800-b9a4-3943c8f1a0a7"
      },
      "source": [
        "fig, ax = plt.subplots()\n",
        "ax.scatter(y_test, predictions)\n",
        "ax.plot([y_test.min(), y_test.max()], [y_test.min(), y_test.max()], 'k--', lw=4)\n",
        "ax.set_xlabel('Measured Time')\n",
        "ax.set_ylabel('Predicted Time')\n",
        "plt.show()"
      ],
      "execution_count": null,
      "outputs": [
        {
          "output_type": "display_data",
          "data": {
            "image/png": "[encoded data removed]",
            "text/plain": [
              "<Figure size 432x288 with 1 Axes>"
            ]
          },
          "metadata": {
            "tags": [],
            "needs_background": "light"
          }
        }
      ]
    },
    {
      "cell_type": "markdown",
      "metadata": {
        "id": "HYIsVlegF7pK"
      },
      "source": [
        "## KNN"
      ]
    },
    {
      "cell_type": "code",
      "metadata": {
        "id": "zElWG8kUF7LL"
      },
      "source": [
        "from sklearn import neighbors\n",
        "from sklearn.model_selection import RandomizedSearchCV\n",
        "\n",
        "filename_knn = 'KNN_model_RandomSearch.bin'\n",
        "path_knn = output_path + filename_knn\n",
        "if file_exists(path_knn):\n",
        "    with open(path_knn, 'rb') as file:\n",
        "        model_knn = pickle.load(file)\n",
        "else:\n",
        "  params = {'n_neighbors':list(range(5,30)), 'leaf_size': list(range(1,50)), \n",
        "          'p':[1,2], 'weights': ['uniform','distance']}\n",
        "  knn = neighbors.KNeighborsRegressor()\n",
        "  model_knn = RandomizedSearchCV(knn, params, cv=5)\n",
        "  model_knn.fit(X_train,y_train)"
      ],
      "execution_count": null,
      "outputs": []
    },
    {
      "cell_type": "markdown",
      "metadata": {
        "id": "Gg5FYjUmIFF1"
      },
      "source": [
        "Prediction with evaluation metrics (R2, MSE, RMSE, MAE)"
      ]
    },
    {
      "cell_type": "code",
      "metadata": {
        "colab": {
          "base_uri": "https://localhost:8080/"
        },
        "cellView": "code",
        "id": "nSB41AmLH7U6",
        "outputId": "d1b97a8a-74bc-41ca-f0f2-98af49045656"
      },
      "source": [
        "predictions_knn = model_knn.predict(X_test)\n",
        "\n",
        "print('R2: {}\\n'.format(metrics.r2_score(y_test, predictions_knn)))\n",
        "\n",
        "print('MSE: {}\\n'.format(metrics.mean_squared_error(y_test, predictions_knn)))\n",
        "\n",
        "print('RMSE: {}\\n'.format(np.sqrt(metrics.mean_squared_error(y_test, predictions_knn))))\n",
        "\n",
        "print('MAE: {}\\n'.format(metrics.mean_absolute_error(y_test, predictions_knn)))\n"
      ],
      "execution_count": null,
      "outputs": [
        {
          "output_type": "stream",
          "text": [
            "R2: 0.8618160387023024\n",
            "\n",
            "MSE: 39488.23020839312\n",
            "\n",
            "RMSE: 198.71645681320186\n",
            "\n",
            "MAE: 151.12988920055776\n",
            "\n"
          ],
          "name": "stdout"
        }
      ]
    },
    {
      "cell_type": "code",
      "metadata": {
        "colab": {
          "base_uri": "https://localhost:8080/",
          "height": 328
        },
        "id": "4On5cAwpIiBX",
        "outputId": "1b69c0a7-feb2-47c3-b4a5-7ef6ff613989"
      },
      "source": [
        "x_ax = range(len(y_test))\n",
        "plot.plot(x_ax, y_test, label=\"actual\")\n",
        "plot.plot(x_ax, predictions_knn, label=\"predicted\")\n",
        "\n",
        "plot.title(\"Mean travel times actual and predicted data\")\n",
        "\n",
        "plot.legend()\n",
        "plot.show()"
      ],
      "execution_count": null,
      "outputs": [
        {
          "output_type": "stream",
          "text": [
            "/usr/local/lib/python3.7/dist-packages/IPython/core/pylabtools.py:125: UserWarning: Creating legend with loc=\"best\" can be slow with large amounts of data.\n",
            "  fig.canvas.print_figure(bytes_io, **kw)\n"
          ],
          "name": "stderr"
        },
        {
          "output_type": "display_data",
          "data": {
            "image/png": "[encoded data removed]",
            "text/plain": [
              "<Figure size 432x288 with 1 Axes>"
            ]
          },
          "metadata": {
            "tags": [],
            "needs_background": "light"
          }
        }
      ]
    },
    {
      "cell_type": "code",
      "metadata": {
        "colab": {
          "base_uri": "https://localhost:8080/",
          "height": 279
        },
        "id": "kRMm8oT9IiBZ",
        "outputId": "3e16530b-ebd9-4382-a868-5e5745f461c8"
      },
      "source": [
        "fig, ax = plot.subplots()\n",
        "ax.scatter(y_test, predictions_knn)\n",
        "ax.plot([y_test.min(), y_test.max()], [y_test.min(), y_test.max()], 'k--', lw=4)\n",
        "ax.set_xlabel('Measured Time')\n",
        "ax.set_ylabel('Predicted Time')\n",
        "plot.show()"
      ],
      "execution_count": null,
      "outputs": [
        {
          "output_type": "display_data",
          "data": {
            "image/png": "[encoded data removed]",
            "text/plain": [
              "<Figure size 432x288 with 1 Axes>"
            ]
          },
          "metadata": {
            "tags": [],
            "needs_background": "light"
          }
        }
      ]
    },
    {
      "cell_type": "markdown",
      "metadata": {
        "id": "NAau1Xg4Ac1s"
      },
      "source": [
        "## XGBOOST"
      ]
    },
    {
      "cell_type": "code",
      "metadata": {
        "id": "mqzOJXOjZBPB"
      },
      "source": [
        "import xgboost as xgb\n",
        "\n",
        "filename_xgb = 'XGB_model_500_best.bin'\n",
        "path_xgb = output_path + filename_xgb\n",
        "if file_exists(path_xgb):\n",
        "    with open(path_xgb, 'rb') as file:\n",
        "        model_xgb = pickle.load(file)\n",
        "else:\n",
        "  parameters = {'n_estimators':[100,500],\n",
        "              'objective':['reg:squarederror'],\n",
        "              'booster':['gbtree','gblinear'],\n",
        "              'learning_rate': [0.05, 0.1, 0.25, 0.5], \n",
        "              'max_depth': [7,8,10,11],\n",
        "              'min_child_weight': [5,10,15,20],\n",
        "              'colsample_bytree': [0.5, 0.8, 1],\n",
        "              'n_estimators': [20,40,60,100],\n",
        "              \"reg_alpha\"   : [0.5,0.2,1],\n",
        "              \"reg_lambda\"  : [2,3,5],\n",
        "              \"gamma\"       : [1,2,3],\n",
        "              'n_jobs' : [2,4,6]}\n",
        "  xgb_reg = XGBRegressor(random_state=30)\n",
        "  model_xgb = RandomizedSearchCV(xgb_reg,parameters, cv=3,n_iter=9,\n",
        "                                 scoring='neg_mean_absolute_error',verbose=3)\n",
        "  model_xgb.fit(X_train,y_train,verbose = 1)"
      ],
      "execution_count": null,
      "outputs": []
    },
    {
      "cell_type": "markdown",
      "metadata": {
        "id": "LzSAfnPBEVBA"
      },
      "source": [
        "Feature Importance"
      ]
    },
    {
      "cell_type": "code",
      "metadata": {
        "id": "UeV6_ESMZDny",
        "colab": {
          "base_uri": "https://localhost:8080/",
          "height": 312
        },
        "outputId": "a26e112d-cf99-4b6e-d17c-bb5cf1730311"
      },
      "source": [
        "xgb.plot_importance(model_xgb)"
      ],
      "execution_count": null,
      "outputs": [
        {
          "output_type": "execute_result",
          "data": {
            "text/plain": [
              "<matplotlib.axes._subplots.AxesSubplot at 0x7f445018e350>"
            ]
          },
          "metadata": {
            "tags": []
          },
          "execution_count": 31
        },
        {
          "output_type": "display_data",
          "data": {
            "image/png": "[encoded data removed]",
            "text/plain": [
              "<Figure size 432x288 with 1 Axes>"
            ]
          },
          "metadata": {
            "tags": [],
            "needs_background": "light"
          }
        }
      ]
    },
    {
      "cell_type": "markdown",
      "metadata": {
        "id": "2z9lS5mtEcJv"
      },
      "source": [
        "Prediction with evaluation metrics (R2, MSE, RMSE, MAE)"
      ]
    },
    {
      "cell_type": "code",
      "metadata": {
        "id": "vfyTR_NaZGnn",
        "colab": {
          "base_uri": "https://localhost:8080/"
        },
        "cellView": "code",
        "outputId": "c7b6354f-ce87-47be-e047-aab0d9d565d3"
      },
      "source": [
        "predictions_xgb = model_xgb.predict(X_test)\n",
        "\n",
        "from sklearn import metrics\n",
        "\n",
        "print('R2: {}\\n'.format(metrics.r2_score(y_test, predictions_xgb)))\n",
        "\n",
        "print('MSE: {}\\n'.format(metrics.mean_squared_error(y_test, predictions_xgb)))\n",
        "\n",
        "print('RMSE: {}\\n'.format(np.sqrt(metrics.mean_squared_error(y_test, predictions_xgb))))\n",
        "\n",
        "print('MAE: {}\\n'.format(metrics.mean_absolute_error(y_test, predictions_xgb)))\n"
      ],
      "execution_count": null,
      "outputs": [
        {
          "output_type": "stream",
          "text": [
            "R2: 0.9670097594716733\n",
            "\n",
            "MSE: 9427.477692626617\n",
            "\n",
            "RMSE: 97.09519912244177\n",
            "\n",
            "MAE: 69.89266147227394\n",
            "\n"
          ],
          "name": "stdout"
        }
      ]
    },
    {
      "cell_type": "code",
      "metadata": {
        "colab": {
          "base_uri": "https://localhost:8080/",
          "height": 328
        },
        "id": "U7TKPnvCDV5S",
        "outputId": "ed8128ca-f8ff-4410-c28b-2a63c9f4af14"
      },
      "source": [
        "x_ax = range(len(y_test))\n",
        "plot.plot(x_ax, y_test, label=\"actual\")\n",
        "plot.plot(x_ax, predictions_xgb, label=\"predicted\")\n",
        "\n",
        "plot.title(\"Mean travel times actual and predicted data\")\n",
        "\n",
        "plot.legend()\n",
        "plot.show()"
      ],
      "execution_count": null,
      "outputs": [
        {
          "output_type": "stream",
          "text": [
            "/usr/local/lib/python3.7/dist-packages/IPython/core/pylabtools.py:125: UserWarning: Creating legend with loc=\"best\" can be slow with large amounts of data.\n",
            "  fig.canvas.print_figure(bytes_io, **kw)\n"
          ],
          "name": "stderr"
        },
        {
          "output_type": "display_data",
          "data": {
            "image/png": "[encoded data removed]",
            "text/plain": [
              "<Figure size 432x288 with 1 Axes>"
            ]
          },
          "metadata": {
            "tags": [],
            "needs_background": "light"
          }
        }
      ]
    },
    {
      "cell_type": "code",
      "metadata": {
        "colab": {
          "base_uri": "https://localhost:8080/",
          "height": 279
        },
        "id": "BAcS1EcsDZUh",
        "outputId": "64846ce3-3dc4-4f79-c1ed-4138005bf06b"
      },
      "source": [
        "fig, ax = plot.subplots()\n",
        "ax.scatter(y_test, predictions_xgb)\n",
        "ax.plot([y_test.min(), y_test.max()], [y_test.min(), y_test.max()], 'k--', lw=4)\n",
        "ax.set_xlabel('Measured Time')\n",
        "ax.set_ylabel('Predicted Time')\n",
        "plot.show()"
      ],
      "execution_count": null,
      "outputs": [
        {
          "output_type": "display_data",
          "data": {
            "image/png": "[encoded data removed]",
            "text/plain": [
              "<Figure size 432x288 with 1 Axes>"
            ]
          },
          "metadata": {
            "tags": [],
            "needs_background": "light"
          }
        }
      ]
    },
    {
      "cell_type": "markdown",
      "metadata": {
        "id": "fbyMl3rcJ1RD"
      },
      "source": [
        "## Random Forest"
      ]
    },
    {
      "cell_type": "code",
      "metadata": {
        "id": "2yXwfSoxJ3xg"
      },
      "source": [
        "from sklearn.ensemble import RandomForestRegressor\n",
        "\n",
        "filename_rf = 'RandomForest_model.bin'\n",
        "path_rf = output_path + filename_rf\n",
        "if file_exists(path_rf):\n",
        "    with open(path_rf, 'rb') as file:\n",
        "        model_rf = pickle.load(file)\n",
        "else:\n",
        "  random_grid = {'bootstrap': [True, False],\n",
        "                 'n_estimators': [10,20,30]}\n",
        "  rf_reg = RandomForestRegressor()\n",
        "  model_rf = RandomizedSearchCV(estimator=rf_reg, param_distributions=random_grid, \n",
        "                                n_iter=100, cv = 3, verbose=2, \n",
        "                                random_state=42, n_jobs = -1)\n",
        "  model_rf.fit(X_train,y_train,verbose = 1)"
      ],
      "execution_count": null,
      "outputs": []
    },
    {
      "cell_type": "markdown",
      "metadata": {
        "id": "21TNfa68L-2T"
      },
      "source": [
        "Feature Importance"
      ]
    },
    {
      "cell_type": "code",
      "metadata": {
        "colab": {
          "base_uri": "https://localhost:8080/",
          "height": 282
        },
        "id": "E8i9B7P-L-2T",
        "outputId": "f32ce177-1039-4f87-c397-0289ea0172c1"
      },
      "source": [
        "plot.barh(X.columns, model_rf.feature_importances_)"
      ],
      "execution_count": null,
      "outputs": [
        {
          "output_type": "execute_result",
          "data": {
            "text/plain": [
              "<BarContainer object of 6 artists>"
            ]
          },
          "metadata": {
            "tags": []
          },
          "execution_count": 47
        },
        {
          "output_type": "display_data",
          "data": {
            "image/png": "[encoded data removed]",
            "text/plain": [
              "<Figure size 432x288 with 1 Axes>"
            ]
          },
          "metadata": {
            "tags": [],
            "needs_background": "light"
          }
        }
      ]
    },
    {
      "cell_type": "markdown",
      "metadata": {
        "id": "Rqlf2UqDL-2U"
      },
      "source": [
        "Prediction with evaluation metrics (R2, MSE, RMSE, MAE)"
      ]
    },
    {
      "cell_type": "code",
      "metadata": {
        "colab": {
          "base_uri": "https://localhost:8080/"
        },
        "cellView": "code",
        "id": "l-M1M_GFL-2V",
        "outputId": "e7b5a097-e0c8-486b-f7f9-3cb0d517b2fe"
      },
      "source": [
        "predictions_rf = model_rf.predict(X_test)\n",
        "\n",
        "from sklearn import metrics\n",
        "\n",
        "print('R2: {}\\n'.format(metrics.r2_score(y_test, predictions_rf)))\n",
        "\n",
        "print('MSE: {}\\n'.format(metrics.mean_squared_error(y_test, predictions_rf)))\n",
        "\n",
        "print('RMSE: {}\\n'.format(np.sqrt(metrics.mean_squared_error(y_test, predictions_rf))))\n",
        "\n",
        "print('MAE: {}\\n'.format(metrics.mean_absolute_error(y_test, predictions_rf)))\n"
      ],
      "execution_count": null,
      "outputs": [
        {
          "output_type": "stream",
          "text": [
            "R2: 0.9831155559235739\n",
            "\n",
            "MSE: 4824.994220525079\n",
            "\n",
            "RMSE: 69.46217834566578\n",
            "\n",
            "MAE: 25.00668189762109\n",
            "\n"
          ],
          "name": "stdout"
        }
      ]
    },
    {
      "cell_type": "code",
      "metadata": {
        "colab": {
          "base_uri": "https://localhost:8080/",
          "height": 328
        },
        "id": "xhr6mkgUL-2W",
        "outputId": "3cf44949-e9d5-41d3-c5f9-a590b9deb34b"
      },
      "source": [
        "x_ax = range(len(y_test))\n",
        "plot.plot(x_ax, y_test, label=\"actual\")\n",
        "plot.plot(x_ax, predictions_rf, label=\"predicted\")\n",
        "\n",
        "plot.title(\"Mean travel times actual and predicted data\")\n",
        "\n",
        "plot.legend()\n",
        "plot.show()"
      ],
      "execution_count": null,
      "outputs": [
        {
          "output_type": "stream",
          "text": [
            "/usr/local/lib/python3.7/dist-packages/IPython/core/pylabtools.py:125: UserWarning: Creating legend with loc=\"best\" can be slow with large amounts of data.\n",
            "  fig.canvas.print_figure(bytes_io, **kw)\n"
          ],
          "name": "stderr"
        },
        {
          "output_type": "display_data",
          "data": {
            "image/png": "[encoded data removed]",
            "text/plain": [
              "<Figure size 432x288 with 1 Axes>"
            ]
          },
          "metadata": {
            "tags": [],
            "needs_background": "light"
          }
        }
      ]
    },
    {
      "cell_type": "code",
      "metadata": {
        "colab": {
          "base_uri": "https://localhost:8080/",
          "height": 279
        },
        "id": "AW29rHNOL-2W",
        "outputId": "ccb5c6c8-a8cb-4f1d-a39c-4449f1d96669"
      },
      "source": [
        "fig, ax = plot.subplots()\n",
        "ax.scatter(y_test, predictions_rf)\n",
        "ax.plot([y_test.min(), y_test.max()], [y_test.min(), y_test.max()], 'k--', lw=4)\n",
        "ax.set_xlabel('Measured Time')\n",
        "ax.set_ylabel('Predicted Time')\n",
        "plot.show()"
      ],
      "execution_count": null,
      "outputs": [
        {
          "output_type": "display_data",
          "data": {
            "image/png": "[encoded data removed]",
            "text/plain": [
              "<Figure size 432x288 with 1 Axes>"
            ]
          },
          "metadata": {
            "tags": [],
            "needs_background": "light"
          }
        }
      ]
    },
    {
      "cell_type": "markdown",
      "metadata": {
        "id": "K-C0rGBODru7"
      },
      "source": [
        "## Testing with some random points\n",
        "We use Random Forest and XGBoost model as the best model for testing some random points"
      ]
    },
    {
      "cell_type": "code",
      "metadata": {
        "id": "Vj4jJPzEDse8"
      },
      "source": [
        "features = ['Source lat', 'Source long', 'Dest lat', 'Dest long', 'hod', 'Geodesic Distance']\n",
        "outcome = ['mean_travel_time']\n",
        "\n",
        "def get_distance(lat1, long1, lat2, long2):\n",
        "    src_point = (lat1, long1)\n",
        "    dest_point = (lat2, long2)\n",
        "    return geopy.distance.geodesic(src_point, dest_point).kilometers\n",
        "\n",
        "def prepare_df(lat1, long1, lat2, long2, hod):\n",
        "    distance = get_distance(lat1, long1, lat2, long2)\n",
        "    return pd.DataFrame(columns = ['Source lat', 'Source long', 'Dest lat', 'Dest long', 'hod', 'Geodesic Distance'],\n",
        "                 data = [[lat1, long1, lat2, long2, hod, distance]])\n",
        "    \n",
        "def predict(df, model):\n",
        "    return model.predict(df[features])"
      ],
      "execution_count": null,
      "outputs": []
    },
    {
      "cell_type": "code",
      "metadata": {
        "id": "MXqMd3znDv2a"
      },
      "source": [
        "def compare(actual, predicted):\n",
        "    return pd.DataFrame(data = {'actual': actual, 'prediction': predicted})"
      ],
      "execution_count": null,
      "outputs": []
    },
    {
      "cell_type": "code",
      "metadata": {
        "id": "doRFbe_9Dwef"
      },
      "source": [
        "def get_random_points_in_bangalore(number):\n",
        "    points = []\n",
        "    min_x, min_y, max_x, max_y = 12.85, 77.45, 13.0, 77.75  \n",
        "    i= 0\n",
        "    while i < number:\n",
        "        point = (random.uniform(min_x, max_x), random.uniform(min_y, max_y))\n",
        "        i += 1\n",
        "        points.append(point)\n",
        "    return points"
      ],
      "execution_count": null,
      "outputs": []
    },
    {
      "cell_type": "code",
      "metadata": {
        "id": "a7cvdRnYD2Gq"
      },
      "source": [
        "points = [((43.7032065069154, -79.3017668023782), #Harcon Construction, 5 Curran Dr, East York, ON M4B 3K8, Canada\n",
        " (43.79372795068623, -79.53055708277108)), #Smartcentres Subway Parking, Vaughan, ON L4K 5Z5, Canada\n",
        "\n",
        " ((43.68026755339931, -79.18913204546007), #Lake Ontario\n",
        " (43.67670568483283, -79.37746517790657)), #24 Dunbar Rd, Toronto, ON M4W 2X6, Canada\n",
        "\n",
        " ((43.74896672433117, -79.57967946899988), #155 Rowntree Mill Rd, North York, ON M9L 1C9, Canada\n",
        " (43.71968777481803, -79.5454589216665)), #Rexdale, Toronto, ON, Canada\n",
        "\n",
        " ((43.72249408273731, -79.3217561447087), #Bermondsey, Toronto, ON, Canada\n",
        " (43.74190761585928, -79.5548316805303)), # 4 Delabra Rd, Etobicoke, On M9V 2M7, Canada\n",
        "\n",
        " ((43.7624005139969, -79.28526940452026), #8 Glaive Dr, Scarborough, ON M1P 1X6, Canada\n",
        " (43.821413225775, -79.23492559977723)), #Verge Furniture Logistics Inc, 257 Finchdene Square, Scarborough, ON M1X 1B9, Canada\n",
        "\n",
        " ((43.7771098764595, -79.59413098212778), #38 Graceview Ct, Woodbridge, ON L4L 9C4, Canada\n",
        " (43.77481420996121, -79.43885522276555)), #Willowdale, North York, ON M2R 1M9, Canada\n",
        "\n",
        " ((43.64701148871478, -79.42847268020157), #149 Gladstone Ave, Toronto, ON M6J 3L1, Canada\n",
        " (43.71016452363984, -79.42515908034015)), #Midtown Toronto, North York, ON M5N 1R4, Canada\n",
        "\n",
        " ((43.720770127049946, -79.4853550076423), #Maple Leaf, Toronto, ON M6L 3G4, Canada\n",
        " (43.6243899135311, -79.39389416437574)), #Toronto, Ontario M5V 1A1, Canada\n",
        "\n",
        " ((43.678142257463314, -79.33132190637777), #Greenwood Ave at Felstead Ave, Toronto, ON M4J 4Y5, Canada\n",
        " (43.736450380536866, -79.36182952465279)), ##23 Brian Cliff Dr, North York, ON M3B 2G1, Canada\n",
        "\n",
        " ((43.60311188732751, -79.55000571296699), #34 Eltham Dr, Etobicoke, ON M8W 2J2, Canada\n",
        " (43.70087649163705, -79.28227813882049))] #Toronto, Ontario, Canada\n",
        "\n",
        "\n",
        "hours_of_day = [18, 7, 18, 2, 16, 23, 10, 8, 4, 16]"
      ],
      "execution_count": null,
      "outputs": []
    },
    {
      "cell_type": "code",
      "metadata": {
        "id": "jF8jw0WvD9kR"
      },
      "source": [
        "# taking average of thetime bounds given by manual google maps travel times for same coordinates and departure time\n",
        "travel_times_gmaps_in_mins = [34, 31, 18, 32, 20, 28, 27, 55, 14, 49]\n",
        "travel_times_gmaps = [t*60 for t in travel_times_gmaps_in_mins]"
      ],
      "execution_count": null,
      "outputs": []
    },
    {
      "cell_type": "markdown",
      "metadata": {
        "id": "_N5QIH0Syj1p"
      },
      "source": [
        "Test with XGBoost Model"
      ]
    },
    {
      "cell_type": "code",
      "metadata": {
        "colab": {
          "base_uri": "https://localhost:8080/"
        },
        "id": "8eQXxVNsy117",
        "outputId": "4865c1d2-333f-44e3-8dd5-611609766c21"
      },
      "source": [
        "travel_times_model_xgb = []\n",
        "points1 = [p[0] for p in points]\n",
        "points2 = [p[1] for p in points]\n",
        "for point1, point2, hod in zip(points1, points2, hours_of_day):\n",
        "    lat1, long1, lat2, long2 = point1[0], point1[1], point2[0], point2[1]\n",
        "    p = predict(prepare_df(lat1, long1, lat2, long2, hod), model_xgb)\n",
        "    p = p.tolist()[0]\n",
        "    travel_times_model_xgb.append(p)\n",
        "[t/60 for t in travel_times_model_xgb]"
      ],
      "execution_count": null,
      "outputs": [
        {
          "output_type": "execute_result",
          "data": {
            "text/plain": [
              "[35.80687255859375,\n",
              " 32.48752237955729,\n",
              " 6.748965454101563,\n",
              " 22.507356770833333,\n",
              " 6.853863016764323,\n",
              " 23.430474853515626,\n",
              " 21.783807373046876,\n",
              " 30.343780517578125,\n",
              " 11.010026041666666,\n",
              " 40.971171061197914]"
            ]
          },
          "metadata": {
            "tags": []
          },
          "execution_count": 15
        }
      ]
    },
    {
      "cell_type": "code",
      "metadata": {
        "colab": {
          "base_uri": "https://localhost:8080/",
          "height": 359
        },
        "id": "dVw-KPoMy11-",
        "outputId": "4e6a0cdc-21b0-40ab-9a19-1a04be3e7325"
      },
      "source": [
        "compare(travel_times_gmaps, travel_times_model_xgb)"
      ],
      "execution_count": null,
      "outputs": [
        {
          "output_type": "execute_result",
          "data": {
            "text/html": [
              "<div>\n",
              "<style scoped>\n",
              "    .dataframe tbody tr th:only-of-type {\n",
              "        vertical-align: middle;\n",
              "    }\n",
              "\n",
              "    .dataframe tbody tr th {\n",
              "        vertical-align: top;\n",
              "    }\n",
              "\n",
              "    .dataframe thead th {\n",
              "        text-align: right;\n",
              "    }\n",
              "</style>\n",
              "<table border=\"1\" class=\"dataframe\">\n",
              "  <thead>\n",
              "    <tr style=\"text-align: right;\">\n",
              "      <th></th>\n",
              "      <th>actual</th>\n",
              "      <th>prediction</th>\n",
              "    </tr>\n",
              "  </thead>\n",
              "  <tbody>\n",
              "    <tr>\n",
              "      <th>0</th>\n",
              "      <td>2040</td>\n",
              "      <td>2148.412354</td>\n",
              "    </tr>\n",
              "    <tr>\n",
              "      <th>1</th>\n",
              "      <td>1860</td>\n",
              "      <td>1949.251343</td>\n",
              "    </tr>\n",
              "    <tr>\n",
              "      <th>2</th>\n",
              "      <td>1080</td>\n",
              "      <td>404.937927</td>\n",
              "    </tr>\n",
              "    <tr>\n",
              "      <th>3</th>\n",
              "      <td>1920</td>\n",
              "      <td>1350.441406</td>\n",
              "    </tr>\n",
              "    <tr>\n",
              "      <th>4</th>\n",
              "      <td>1200</td>\n",
              "      <td>411.231781</td>\n",
              "    </tr>\n",
              "    <tr>\n",
              "      <th>5</th>\n",
              "      <td>1680</td>\n",
              "      <td>1405.828491</td>\n",
              "    </tr>\n",
              "    <tr>\n",
              "      <th>6</th>\n",
              "      <td>1620</td>\n",
              "      <td>1307.028442</td>\n",
              "    </tr>\n",
              "    <tr>\n",
              "      <th>7</th>\n",
              "      <td>3300</td>\n",
              "      <td>1820.626831</td>\n",
              "    </tr>\n",
              "    <tr>\n",
              "      <th>8</th>\n",
              "      <td>840</td>\n",
              "      <td>660.601562</td>\n",
              "    </tr>\n",
              "    <tr>\n",
              "      <th>9</th>\n",
              "      <td>2940</td>\n",
              "      <td>2458.270264</td>\n",
              "    </tr>\n",
              "  </tbody>\n",
              "</table>\n",
              "</div>"
            ],
            "text/plain": [
              "   actual   prediction\n",
              "0    2040  2148.412354\n",
              "1    1860  1949.251343\n",
              "2    1080   404.937927\n",
              "3    1920  1350.441406\n",
              "4    1200   411.231781\n",
              "5    1680  1405.828491\n",
              "6    1620  1307.028442\n",
              "7    3300  1820.626831\n",
              "8     840   660.601562\n",
              "9    2940  2458.270264"
            ]
          },
          "metadata": {
            "tags": []
          },
          "execution_count": 17
        }
      ]
    },
    {
      "cell_type": "code",
      "metadata": {
        "colab": {
          "base_uri": "https://localhost:8080/",
          "height": 281
        },
        "id": "mGVTMDfty11_",
        "outputId": "24aa506b-bd72-4509-bce0-5d1c95088ed9"
      },
      "source": [
        "x_ax = range(len(travel_times_model_xgb))\n",
        "plot.plot(x_ax, travel_times_gmaps, label=\"original\")\n",
        "plot.plot(x_ax, travel_times_model_xgb, label=\"predicted\")\n",
        "\n",
        "plot.title(\"Mean travel times actual and predicted data\")\n",
        "\n",
        "plot.legend()\n",
        "plot.show()"
      ],
      "execution_count": null,
      "outputs": [
        {
          "output_type": "display_data",
          "data": {
            "image/png": "[encoded data removed]",
            "text/plain": [
              "<Figure size 432x288 with 1 Axes>"
            ]
          },
          "metadata": {
            "tags": [],
            "needs_background": "light"
          }
        }
      ]
    },
    {
      "cell_type": "markdown",
      "metadata": {
        "id": "9FPYJJD5yp1E"
      },
      "source": [
        "Test with RandomForest Model"
      ]
    },
    {
      "cell_type": "code",
      "metadata": {
        "colab": {
          "base_uri": "https://localhost:8080/"
        },
        "id": "u_fIOKNmD_nD",
        "outputId": "7e944391-ffe9-4992-8a16-aabcfe8ef7aa"
      },
      "source": [
        "travel_times_model_rf = []\n",
        "points1 = [p[0] for p in points]\n",
        "points2 = [p[1] for p in points]\n",
        "for point1, point2, hod in zip(points1, points2, hours_of_day):\n",
        "    lat1, long1, lat2, long2 = point1[0], point1[1], point2[0], point2[1]\n",
        "    p = predict(prepare_df(lat1, long1, lat2, long2, hod), model_rf)\n",
        "    p = p.tolist()[0]\n",
        "    travel_times_model_rf.append(p)\n",
        "[t/60 for t in travel_times_model_rf]"
      ],
      "execution_count": null,
      "outputs": [
        {
          "output_type": "execute_result",
          "data": {
            "text/plain": [
              "[38.49516666666666,\n",
              " 35.37215,\n",
              " 8.351066666666666,\n",
              " 21.625333333333337,\n",
              " 9.1515,\n",
              " 18.33573333333333,\n",
              " 24.547800000000002,\n",
              " 29.14333333333333,\n",
              " 12.170950000000001,\n",
              " 40.881333333333345]"
            ]
          },
          "metadata": {
            "tags": []
          },
          "execution_count": 21
        }
      ]
    },
    {
      "cell_type": "code",
      "metadata": {
        "colab": {
          "base_uri": "https://localhost:8080/",
          "height": 359
        },
        "id": "N5yyxJArEBfd",
        "outputId": "4f513b0d-872e-46fe-ba3c-6dba522d4a89"
      },
      "source": [
        "compare(travel_times_gmaps, travel_times_model_rf)"
      ],
      "execution_count": null,
      "outputs": [
        {
          "output_type": "execute_result",
          "data": {
            "text/html": [
              "<div>\n",
              "<style scoped>\n",
              "    .dataframe tbody tr th:only-of-type {\n",
              "        vertical-align: middle;\n",
              "    }\n",
              "\n",
              "    .dataframe tbody tr th {\n",
              "        vertical-align: top;\n",
              "    }\n",
              "\n",
              "    .dataframe thead th {\n",
              "        text-align: right;\n",
              "    }\n",
              "</style>\n",
              "<table border=\"1\" class=\"dataframe\">\n",
              "  <thead>\n",
              "    <tr style=\"text-align: right;\">\n",
              "      <th></th>\n",
              "      <th>actual</th>\n",
              "      <th>prediction</th>\n",
              "    </tr>\n",
              "  </thead>\n",
              "  <tbody>\n",
              "    <tr>\n",
              "      <th>0</th>\n",
              "      <td>2040</td>\n",
              "      <td>2309.710</td>\n",
              "    </tr>\n",
              "    <tr>\n",
              "      <th>1</th>\n",
              "      <td>1860</td>\n",
              "      <td>2122.329</td>\n",
              "    </tr>\n",
              "    <tr>\n",
              "      <th>2</th>\n",
              "      <td>1080</td>\n",
              "      <td>501.064</td>\n",
              "    </tr>\n",
              "    <tr>\n",
              "      <th>3</th>\n",
              "      <td>1920</td>\n",
              "      <td>1297.520</td>\n",
              "    </tr>\n",
              "    <tr>\n",
              "      <th>4</th>\n",
              "      <td>1200</td>\n",
              "      <td>549.090</td>\n",
              "    </tr>\n",
              "    <tr>\n",
              "      <th>5</th>\n",
              "      <td>1680</td>\n",
              "      <td>1100.144</td>\n",
              "    </tr>\n",
              "    <tr>\n",
              "      <th>6</th>\n",
              "      <td>1620</td>\n",
              "      <td>1472.868</td>\n",
              "    </tr>\n",
              "    <tr>\n",
              "      <th>7</th>\n",
              "      <td>3300</td>\n",
              "      <td>1748.600</td>\n",
              "    </tr>\n",
              "    <tr>\n",
              "      <th>8</th>\n",
              "      <td>840</td>\n",
              "      <td>730.257</td>\n",
              "    </tr>\n",
              "    <tr>\n",
              "      <th>9</th>\n",
              "      <td>2940</td>\n",
              "      <td>2452.880</td>\n",
              "    </tr>\n",
              "  </tbody>\n",
              "</table>\n",
              "</div>"
            ],
            "text/plain": [
              "   actual  prediction\n",
              "0    2040    2309.710\n",
              "1    1860    2122.329\n",
              "2    1080     501.064\n",
              "3    1920    1297.520\n",
              "4    1200     549.090\n",
              "5    1680    1100.144\n",
              "6    1620    1472.868\n",
              "7    3300    1748.600\n",
              "8     840     730.257\n",
              "9    2940    2452.880"
            ]
          },
          "metadata": {
            "tags": []
          },
          "execution_count": 23
        }
      ]
    },
    {
      "cell_type": "code",
      "metadata": {
        "colab": {
          "base_uri": "https://localhost:8080/",
          "height": 281
        },
        "id": "-bm0MXOmED7j",
        "outputId": "71035394-721b-4d76-b19c-c47be2c9ad32"
      },
      "source": [
        "x_ax = range(len(travel_times_model_rf))\n",
        "plot.plot(x_ax, travel_times_gmaps, label=\"original\")\n",
        "plot.plot(x_ax, travel_times_model_rf, label=\"predicted\")\n",
        "\n",
        "plot.title(\"Mean travel times actual and predicted data\")\n",
        "\n",
        "plot.legend()\n",
        "plot.show()"
      ],
      "execution_count": null,
      "outputs": [
        {
          "output_type": "display_data",
          "data": {
            "image/png": "[encoded data removed]",
            "text/plain": [
              "<Figure size 432x288 with 1 Axes>"
            ]
          },
          "metadata": {
            "tags": [],
            "needs_background": "light"
          }
        }
      ]
    }
  ]
}